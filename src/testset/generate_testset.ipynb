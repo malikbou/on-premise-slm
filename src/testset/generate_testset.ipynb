{
 "cells": [
  {
   "cell_type": "markdown",
   "id": "44702390",
   "metadata": {},
   "source": [
    "# Generating a Testset\n",
    "Based on UCL Computer Science Handbook"
   ]
  },
  {
   "cell_type": "code",
   "execution_count": 7,
   "id": "7e0ed058",
   "metadata": {},
   "outputs": [
    {
     "name": "stdout",
     "output_type": "stream",
     "text": [
      "✅ AI Foundry LLM and embeddings configured successfully!\n",
      "📡 Using Azure endpoint: https://llm-benchmarking.cognitiveservices.azure.com/\n",
      "🤖 Using deployment: gpt-4.1-mini\n",
      "📊 Model version: 2025-04-14 (from your deployment info)\n"
     ]
    },
    {
     "name": "stderr",
     "output_type": "stream",
     "text": [
      "/var/folders/vc/nq7g1sdd1gx0q0mdhypgry9c0000gn/T/ipykernel_63177/3570659203.py:35: DeprecationWarning: LangchainEmbeddingsWrapper is deprecated and will be removed in a future version. Use the modern embedding providers instead: embedding_factory('openai', model='text-embedding-3-small', client=openai_client) or from ragas.embeddings import OpenAIEmbeddings, GoogleEmbeddings, HuggingFaceEmbeddings\n",
      "  generator_embeddings = LangchainEmbeddingsWrapper(\n"
     ]
    }
   ],
   "source": [
    "# Alternative: Direct AI Foundry Configuration\n",
    "\n",
    "from ragas.llms import LangchainLLMWrapper\n",
    "from ragas.embeddings import LangchainEmbeddingsWrapper\n",
    "from langchain_openai import AzureChatOpenAI, OpenAIEmbeddings\n",
    "import os\n",
    "from dotenv import load_dotenv\n",
    "\n",
    "# Load environment variables from .env file\n",
    "load_dotenv()\n",
    "\n",
    "# AI Foundry deployment details (from your deployment info)\n",
    "endpoint = \"https://llm-benchmarking.cognitiveservices.azure.com/\"\n",
    "deployment = \"gpt-4.1-mini\"\n",
    "api_version = \"2024-12-01-preview\"\n",
    "\n",
    "# Get API key from environment variable\n",
    "subscription_key = os.environ.get(\"AZURE_OPENAI_API_KEY_4_1\")\n",
    "\n",
    "# Create Azure LLM for your AI Foundry deployment\n",
    "azure_llm = AzureChatOpenAI(\n",
    "    azure_deployment=deployment,\n",
    "    api_version=api_version,\n",
    "    azure_endpoint=endpoint,\n",
    "    api_key=subscription_key,\n",
    "    temperature=1.0,  # Ragas recommends temperature=1.0 for testset generation\n",
    "    max_tokens=4000\n",
    ")\n",
    "\n",
    "# Wrap for Ragas\n",
    "generator_llm = LangchainLLMWrapper(azure_llm)\n",
    "\n",
    "# For embeddings, you can use OpenAI's embedding models\n",
    "# If you have an embedding model deployed in AI Foundry, you can use that instead\n",
    "generator_embeddings = LangchainEmbeddingsWrapper(\n",
    "    OpenAIEmbeddings(\n",
    "        model=\"text-embedding-3-small\"\n",
    "        # API key is loaded from environment variables\n",
    "    )\n",
    ")\n",
    "\n",
    "print(\"✅ AI Foundry LLM and embeddings configured successfully!\")\n",
    "print(f\"📡 Using Azure endpoint: {endpoint}\")\n",
    "print(f\"🤖 Using deployment: {deployment}\")\n",
    "print(f\"📊 Model version: 2025-04-14 (from your deployment info)\")\n"
   ]
  },
  {
   "cell_type": "code",
   "execution_count": 8,
   "id": "04dbee7a",
   "metadata": {},
   "outputs": [],
   "source": [
    "from langchain_community.document_loaders import DirectoryLoader\n",
    "\n",
    "path = \"../../data/cs-handbook\"\n",
    "loader = DirectoryLoader(path, glob=\"**/*.md\")\n",
    "docs = loader.load()\n",
    "docs"
   ]
  },
  {
   "cell_type": "code",
   "execution_count": null,
   "id": "8a068af3",
   "metadata": {},
   "outputs": [],
   "source": [
    "# load the documents\n",
    "from langchain_community.document_loaders import TextLoader\n",
    "\n",
    "path = \"/Users/Malik/code/malikbou/ucl/thesis/on-premise-slm/data/cs-handbook.md\"\n",
    "loader = TextLoader(path)\n",
    "docs = loader.load()\n",
    "docs"
   ]
  },
  {
   "cell_type": "code",
   "execution_count": 9,
   "id": "dbd2b25e",
   "metadata": {},
   "outputs": [
    {
     "data": {
      "text/plain": [
       "KnowledgeGraph(nodes: 24, relationships: 0)"
      ]
     },
     "execution_count": 9,
     "metadata": {},
     "output_type": "execute_result"
    }
   ],
   "source": [
    "# create a knowledge graph\n",
    "from ragas.testset.graph import KnowledgeGraph\n",
    "from ragas.testset.graph import Node, NodeType\n",
    "\n",
    "kg = KnowledgeGraph()\n",
    "\n",
    "for doc in docs:\n",
    "    kg.nodes.append(\n",
    "        Node(\n",
    "            type=NodeType.DOCUMENT,\n",
    "            properties={\"page_content\": doc.page_content, \"document_metadata\": doc.metadata}\n",
    "        )\n",
    "    )\n",
    "\n",
    "kg"
   ]
  },
  {
   "cell_type": "code",
   "execution_count": 10,
   "id": "c05f4125",
   "metadata": {},
   "outputs": [
    {
     "name": "stderr",
     "output_type": "stream",
     "text": [
      "Applying KeyphrasesExtractor:  40%|███▉      | 37/93 [00:06<00:08,  6.56it/s]Property 'keyphrases' already exists in node 'f207be'. Skipping!\n",
      "Applying KeyphrasesExtractor:  81%|████████  | 75/93 [00:11<00:02,  8.55it/s]Property 'keyphrases' already exists in node '4b4f05'. Skipping!\n",
      "Property 'keyphrases' already exists in node '2db82a'. Skipping!\n",
      "Applying KeyphrasesExtractor:  96%|█████████▌| 89/93 [00:13<00:00,  8.72it/s]Property 'keyphrases' already exists in node '242e83'. Skipping!\n",
      "                                                                             \r"
     ]
    }
   ],
   "source": [
    "from ragas.testset.transforms import apply_transforms\n",
    "from ragas.testset.transforms import HeadlinesExtractor, HeadlineSplitter, KeyphrasesExtractor\n",
    "\n",
    "# headline_extractor = HeadlinesExtractor(llm=generator_llm, max_num=20)\n",
    "headline_extractor = HeadlinesExtractor(llm=generator_llm)\n",
    "headline_splitter = HeadlineSplitter(max_tokens=1500)\n",
    "keyphrase_extractor = KeyphrasesExtractor(llm=generator_llm)\n",
    "\n",
    "transforms = [\n",
    "    headline_extractor,\n",
    "    headline_splitter,\n",
    "    keyphrase_extractor\n",
    "]\n",
    "\n",
    "apply_transforms(kg, transforms=transforms)"
   ]
  },
  {
   "cell_type": "code",
   "execution_count": 11,
   "id": "4a800551",
   "metadata": {},
   "outputs": [
    {
     "data": {
      "text/plain": [
       "KnowledgeGraph(nodes: 93, relationships: 110)"
      ]
     },
     "execution_count": 11,
     "metadata": {},
     "output_type": "execute_result"
    }
   ],
   "source": [
    "# Let's see what happens to the kg after it's done\n",
    "kg"
   ]
  },
  {
   "cell_type": "code",
   "execution_count": 12,
   "id": "eb319bf5",
   "metadata": {},
   "outputs": [],
   "source": [
    "# Configure personas for UCL Computer Science Handbook testset generation\n",
    "from ragas.testset.persona import Persona\n",
    "\n",
    "# Define UCL-specific student personas based on common scenarios\n",
    "personas = [\n",
    "    Persona(\n",
    "        name=\"injured_undergraduate\",\n",
    "        role_description=\"An undergraduate student who has hurt themselves and wants to know how to get an extension or support for missed deadlines.\"\n",
    "    ),\n",
    "    Persona(\n",
    "        name=\"struggling_postgraduate\",\n",
    "        role_description=\"A Master's student who is worried about failing or missing coursework and needs clarity on resits, condonement, or progression rules.\"\n",
    "    ),\n",
    "    Persona(\n",
    "        name=\"international_student\",\n",
    "        role_description=\"An international student concerned about visa requirements, travel, and how academic issues like resits or deferrals may affect their status.\"\n",
    "    ),\n",
    "    Persona(\n",
    "        name=\"disabled_student\",\n",
    "        role_description=\"A student with a disability or long-term condition seeking information about reasonable adjustments, SORA, and who to contact for support.\"\n",
    "    ),\n",
    "    Persona(\n",
    "        name=\"module_choice_student\",\n",
    "        role_description=\"A student unsure about how to select optional modules, late registration, or interdisciplinary modules, and wants guidance on the process.\"\n",
    "    ),\n",
    "    Persona(\n",
    "        name=\"worried_exam_candidate\",\n",
    "        role_description=\"A student anxious about exams, asking about timetable clashes, exam formats, or what happens if they are ill during exams.\"\n",
    "    ),\n",
    "    Persona(\n",
    "        name=\"faculty_member\",\n",
    "        role_description=\"A staff or faculty member who wants to check policies about communication with students, extenuating circumstances procedures, or progression rules.\"\n",
    "    ),\n",
    "    Persona(\n",
    "        name=\"everyday_undergraduate\",\n",
    "        role_description=\"A first-year undergraduate who has everyday concerns such as where to find timetables, how to contact admin staff, or how teaching is structured.\"\n",
    "    ),\n",
    "]"
   ]
  },
  {
   "cell_type": "code",
   "execution_count": 13,
   "id": "312c7339",
   "metadata": {},
   "outputs": [],
   "source": [
    "from ragas.testset.synthesizers.single_hop.specific import (\n",
    "    SingleHopSpecificQuerySynthesizer,\n",
    ")\n",
    "\n",
    "query_distibution = [\n",
    "    (\n",
    "        SingleHopSpecificQuerySynthesizer(llm=generator_llm, property_name=\"headlines\"),\n",
    "        0.5,\n",
    "    ),\n",
    "    (\n",
    "        SingleHopSpecificQuerySynthesizer(\n",
    "            llm=generator_llm, property_name=\"keyphrases\"\n",
    "        ),\n",
    "        0.5,\n",
    "    ),\n",
    "]"
   ]
  },
  {
   "cell_type": "code",
   "execution_count": 14,
   "id": "a003840b",
   "metadata": {},
   "outputs": [],
   "source": [
    "# setup testset generator\n",
    "\n",
    "from ragas.testset import TestsetGenerator\n",
    "\n",
    "generator = TestsetGenerator(\n",
    "    llm=generator_llm,\n",
    "    embedding_model=generator_embeddings,\n",
    "    knowledge_graph=kg,\n",
    "    persona_list=personas,\n",
    ")"
   ]
  },
  {
   "cell_type": "code",
   "execution_count": 15,
   "id": "7451cc25",
   "metadata": {},
   "outputs": [
    {
     "name": "stderr",
     "output_type": "stream",
     "text": [
      "Generating Scenarios: 100%|██████████| 2/2 [00:30<00:00, 15.29s/it]\n",
      "Generating Samples: 100%|██████████| 10/10 [00:17<00:00,  1.73s/it]\n"
     ]
    },
    {
     "data": {
      "text/html": [
       "<div>\n",
       "<style scoped>\n",
       "    .dataframe tbody tr th:only-of-type {\n",
       "        vertical-align: middle;\n",
       "    }\n",
       "\n",
       "    .dataframe tbody tr th {\n",
       "        vertical-align: top;\n",
       "    }\n",
       "\n",
       "    .dataframe thead th {\n",
       "        text-align: right;\n",
       "    }\n",
       "</style>\n",
       "<table border=\"1\" class=\"dataframe\">\n",
       "  <thead>\n",
       "    <tr style=\"text-align: right;\">\n",
       "      <th></th>\n",
       "      <th>user_input</th>\n",
       "      <th>reference_contexts</th>\n",
       "      <th>reference</th>\n",
       "      <th>synthesizer_name</th>\n",
       "    </tr>\n",
       "  </thead>\n",
       "  <tbody>\n",
       "    <tr>\n",
       "      <th>0</th>\n",
       "      <td>Could you please explain what is meant by \"10....</td>\n",
       "      <td>[10. Module information &amp; selection\\n\\nAdvice ...</td>\n",
       "      <td>\"10.4 Module information\" refers to details ab...</td>\n",
       "      <td>single_hop_specific_query_synthesizer</td>\n",
       "    </tr>\n",
       "    <tr>\n",
       "      <th>1</th>\n",
       "      <td>hw can i get my transcrips and degree certifca...</td>\n",
       "      <td>[23. After study\\n\\nInformation on confirmatio...</td>\n",
       "      <td>Students may request transcripts, degree certi...</td>\n",
       "      <td>single_hop_specific_query_synthesizer</td>\n",
       "    </tr>\n",
       "    <tr>\n",
       "      <th>2</th>\n",
       "      <td>Could you please explain what support is avail...</td>\n",
       "      <td>[15. Student support and wellbeing\\n\\nInformat...</td>\n",
       "      <td>The 15.3 Equity, diversity, and inclusion supp...</td>\n",
       "      <td>single_hop_specific_query_synthesizer</td>\n",
       "    </tr>\n",
       "    <tr>\n",
       "      <th>3</th>\n",
       "      <td>can u tell me how 13.2 Feedback works and when...</td>\n",
       "      <td>[13. Assessment and feedback\\n\\nInformation on...</td>\n",
       "      <td>13.2 Feedback explains that students should ge...</td>\n",
       "      <td>single_hop_specific_query_synthesizer</td>\n",
       "    </tr>\n",
       "    <tr>\n",
       "      <th>4</th>\n",
       "      <td>wher can i find 4. Key dates and comunication?</td>\n",
       "      <td>[4. Key dates and communication\\n\\nAn overview...</td>\n",
       "      <td>The section titled \"4. Key dates and communica...</td>\n",
       "      <td>single_hop_specific_query_synthesizer</td>\n",
       "    </tr>\n",
       "    <tr>\n",
       "      <th>5</th>\n",
       "      <td>What are compulsory modules, and how do they d...</td>\n",
       "      <td>[10. Module information &amp; selection Advice on ...</td>\n",
       "      <td>Compulsory modules are essential to a programm...</td>\n",
       "      <td>single_hop_specific_query_synthesizer</td>\n",
       "    </tr>\n",
       "    <tr>\n",
       "      <th>6</th>\n",
       "      <td>What does approval by the Module Leader and Pr...</td>\n",
       "      <td>[10.3 Module selection 10.3.1 Choosing modules...</td>\n",
       "      <td>All module selections are ultimately subject t...</td>\n",
       "      <td>single_hop_specific_query_synthesizer</td>\n",
       "    </tr>\n",
       "    <tr>\n",
       "      <th>7</th>\n",
       "      <td>who i ask for academic advice on module select...</td>\n",
       "      <td>[10.4 Module information Information about mod...</td>\n",
       "      <td>For academic advice on module selection, such ...</td>\n",
       "      <td>single_hop_specific_query_synthesizer</td>\n",
       "    </tr>\n",
       "    <tr>\n",
       "      <th>8</th>\n",
       "      <td>Where can I find information on confirmation o...</td>\n",
       "      <td>[23. After study Information on confirmation o...</td>\n",
       "      <td>Information on confirmation of student status ...</td>\n",
       "      <td>single_hop_specific_query_synthesizer</td>\n",
       "    </tr>\n",
       "    <tr>\n",
       "      <th>9</th>\n",
       "      <td>how can i get academic reference plz?</td>\n",
       "      <td>[23.1 Summary of options for confirmation of s...</td>\n",
       "      <td>An academic reference is a personal academic r...</td>\n",
       "      <td>single_hop_specific_query_synthesizer</td>\n",
       "    </tr>\n",
       "  </tbody>\n",
       "</table>\n",
       "</div>"
      ],
      "text/plain": [
       "                                          user_input  \\\n",
       "0  Could you please explain what is meant by \"10....   \n",
       "1  hw can i get my transcrips and degree certifca...   \n",
       "2  Could you please explain what support is avail...   \n",
       "3  can u tell me how 13.2 Feedback works and when...   \n",
       "4     wher can i find 4. Key dates and comunication?   \n",
       "5  What are compulsory modules, and how do they d...   \n",
       "6  What does approval by the Module Leader and Pr...   \n",
       "7  who i ask for academic advice on module select...   \n",
       "8  Where can I find information on confirmation o...   \n",
       "9              how can i get academic reference plz?   \n",
       "\n",
       "                                  reference_contexts  \\\n",
       "0  [10. Module information & selection\\n\\nAdvice ...   \n",
       "1  [23. After study\\n\\nInformation on confirmatio...   \n",
       "2  [15. Student support and wellbeing\\n\\nInformat...   \n",
       "3  [13. Assessment and feedback\\n\\nInformation on...   \n",
       "4  [4. Key dates and communication\\n\\nAn overview...   \n",
       "5  [10. Module information & selection Advice on ...   \n",
       "6  [10.3 Module selection 10.3.1 Choosing modules...   \n",
       "7  [10.4 Module information Information about mod...   \n",
       "8  [23. After study Information on confirmation o...   \n",
       "9  [23.1 Summary of options for confirmation of s...   \n",
       "\n",
       "                                           reference  \\\n",
       "0  \"10.4 Module information\" refers to details ab...   \n",
       "1  Students may request transcripts, degree certi...   \n",
       "2  The 15.3 Equity, diversity, and inclusion supp...   \n",
       "3  13.2 Feedback explains that students should ge...   \n",
       "4  The section titled \"4. Key dates and communica...   \n",
       "5  Compulsory modules are essential to a programm...   \n",
       "6  All module selections are ultimately subject t...   \n",
       "7  For academic advice on module selection, such ...   \n",
       "8  Information on confirmation of student status ...   \n",
       "9  An academic reference is a personal academic r...   \n",
       "\n",
       "                        synthesizer_name  \n",
       "0  single_hop_specific_query_synthesizer  \n",
       "1  single_hop_specific_query_synthesizer  \n",
       "2  single_hop_specific_query_synthesizer  \n",
       "3  single_hop_specific_query_synthesizer  \n",
       "4  single_hop_specific_query_synthesizer  \n",
       "5  single_hop_specific_query_synthesizer  \n",
       "6  single_hop_specific_query_synthesizer  \n",
       "7  single_hop_specific_query_synthesizer  \n",
       "8  single_hop_specific_query_synthesizer  \n",
       "9  single_hop_specific_query_synthesizer  "
      ]
     },
     "execution_count": 15,
     "metadata": {},
     "output_type": "execute_result"
    }
   ],
   "source": [
    "testset = generator.generate(testset_size=10, query_distribution=query_distibution)\n",
    "testset.to_pandas()"
   ]
  },
  {
   "cell_type": "code",
   "execution_count": 16,
   "id": "e9c56625",
   "metadata": {},
   "outputs": [
    {
     "name": "stdout",
     "output_type": "stream",
     "text": [
      "💾 Saving to: /Users/Malik/code/malikbou/ucl/thesis/on-premise-slm/data/testset\n",
      "\n",
      "🎉 Success! Saved 10 high-quality single-hop samples to /Users/Malik/code/malikbou/ucl/thesis/on-premise-slm/data/testset/cs-handbook_single_hop_testset_gpt-4.1-mini_20250911_150427.json\n",
      "\n",
      "📋 Sample Questions Generated:\n",
      "  1. Could you please explain what is meant by \"10.4 Module information\" and how it can help me as a struggling postgraduate student in making informed module choices?\n",
      "  2. hw can i get my transcrips and degree certifcate from UCL?\n",
      "  3. Could you please explain what support is available under the 15.3 Equity, diversity, and inclusion support at UCL, and how the university and the Computer Science department promote equity, diversity, and inclusion for students?\n"
     ]
    }
   ],
   "source": [
    "from datetime import datetime\n",
    "import json\n",
    "import os\n",
    "\n",
    "# Save dataset as json for rag eval\n",
    "# Navigate to project root (two levels up from src/testset/)\n",
    "project_root = os.path.abspath(os.path.join(os.getcwd(), \"..\", \"..\"))\n",
    "out_dir = os.path.join(project_root, \"data\", \"testset\")\n",
    "os.makedirs(out_dir, exist_ok=True)\n",
    "\n",
    "print(f\"💾 Saving to: {out_dir}\")\n",
    "\n",
    "timestamp = datetime.now().strftime(\"%Y%m%d_%H%M%S\")\n",
    "model_slug = deployment.replace(\":\", \"_\").replace(\"/\", \"_\")\n",
    "out_path = os.path.join(\n",
    "    out_dir,\n",
    "    f\"cs-handbook_single_hop_testset_{model_slug}_{timestamp}.json\"\n",
    ")\n",
    "\n",
    "with open(out_path, \"w\", encoding=\"utf-8\") as f:\n",
    "    json.dump(testset.to_list(), f, indent=2, ensure_ascii=False)\n",
    "\n",
    "print(f\"\\n🎉 Success! Saved {len(testset.to_list())} high-quality single-hop samples to {out_path}\")\n",
    "\n",
    "# Show sample questions\n",
    "if testset.to_list():\n",
    "    print(\"\\n📋 Sample Questions Generated:\")\n",
    "    for i, sample in enumerate(testset.to_list()[:3], 1):\n",
    "        print(f\"  {i}. {sample['user_input']}\")\n"
   ]
  },
  {
   "cell_type": "code",
   "execution_count": null,
   "id": "5fac008d",
   "metadata": {},
   "outputs": [],
   "source": []
  }
 ],
 "metadata": {
  "kernelspec": {
   "display_name": ".venv",
   "language": "python",
   "name": "python3"
  },
  "language_info": {
   "codemirror_mode": {
    "name": "ipython",
    "version": 3
   },
   "file_extension": ".py",
   "mimetype": "text/x-python",
   "name": "python",
   "nbconvert_exporter": "python",
   "pygments_lexer": "ipython3",
   "version": "3.11.1"
  }
 },
 "nbformat": 4,
 "nbformat_minor": 5
}
